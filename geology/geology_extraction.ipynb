{
 "cells": [
  {
   "cell_type": "markdown",
   "metadata": {},
   "source": [
    "# Geology Extraction from the Shapefiles"
   ]
  },
  {
   "cell_type": "code",
   "execution_count": 22,
   "metadata": {},
   "outputs": [],
   "source": [
    "%matplotlib inline\n",
    "import shapely\n",
    "import pandas as pd\n",
    "import geopandas as gpd\n",
    "import matplotlib.pyplot as plt"
   ]
  },
  {
   "cell_type": "code",
   "execution_count": 2,
   "metadata": {},
   "outputs": [],
   "source": [
    "AOI_shp = gpd.read_file('../data/shp/AOI_Geology.shp')"
   ]
  },
  {
   "cell_type": "code",
   "execution_count": 16,
   "metadata": {},
   "outputs": [],
   "source": [
    "ok_quakes = pd.read_csv('../data/okQuakes.csv')\n",
    "\n",
    "ok_quakes['geometry'] = list(zip(ok_quakes.longitude, ok_quakes.latitude))\n",
    "ok_quakes['geometry'] = ok_quakes['geometry'].apply(shapely.geometry.Point)\n",
    "\n",
    "quakes_shp = gpd.GeoDataFrame(ok_quakes, geometry='geometry', crs = {'init': 'epsg:4326'})"
   ]
  },
  {
   "cell_type": "markdown",
   "metadata": {},
   "source": [
    "http://geologyandpython.com/geology-of-MI-and-WI.html"
   ]
  },
  {
   "cell_type": "code",
   "execution_count": 96,
   "metadata": {
    "scrolled": true
   },
   "outputs": [],
   "source": [
    "for i, row in ok_quakes.iterrows():\n",
    "    for j, unit in AOI_shp.iterrows():\n",
    "        if row.geometry.intersects(unit.geometry):\n",
    "            ok_quakes.at[i, 'STATE'] =  unit.STATE\n",
    "            ok_quakes.at[i, 'UNIT_NAME'] =  unit.UNIT_NAME\n",
    "            ok_quakes.at[i, 'AGE_MIN'] =  unit.AGE_MIN\n",
    "            ok_quakes.at[i, 'MAJOR1'] =  unit.MAJOR1\n",
    "            ok_quakes.at[i, 'MAJOR2'] =  unit.MAJOR2\n",
    "            ok_quakes.at[i, 'MAJOR3'] =  unit.MAJOR3\n",
    "            ok_quakes.at[i, 'GENERALIZE'] =  unit.GENERALIZE    "
   ]
  }
 ],
 "metadata": {
  "kernelspec": {
   "display_name": "Python [conda env:geoenv] *",
   "language": "python",
   "name": "conda-env-geoenv-py"
  },
  "language_info": {
   "codemirror_mode": {
    "name": "ipython",
    "version": 2
   },
   "file_extension": ".py",
   "mimetype": "text/x-python",
   "name": "python",
   "nbconvert_exporter": "python",
   "pygments_lexer": "ipython2",
   "version": "2.7.15"
  }
 },
 "nbformat": 4,
 "nbformat_minor": 2
}

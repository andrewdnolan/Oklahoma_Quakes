{
 "cells": [
  {
   "cell_type": "markdown",
   "metadata": {},
   "source": [
    "# Geology Extraction from the Shapefiles\n",
    "\n",
    "I have extracted a subset of shapefiles for the geologic infromation in my area of interest (AOI), from a larger geologic map of the United States. I am testing for the interection of a `latitude` and `longitude` point in one of the shapefiles for the different lithological units in the AOI. If the points interest, I am then extracting the geologic information from the lithologic unit and adding it the existing `.csv` files. This lithological information will then be used as predictors for the location and magntiude of anthropogenically induced earthquakes.  \n",
    "\n",
    "The spatial indexing in incredible computationaly expensive, based on the fact that I have a shapefile with $\\sim$90,000 polygons which need to check if they interect with $\\sim$ 15,000 recorded earthquakes. For this reason I am using a spatial indexing method, to increase the efficency of the computation. Explaination of the R-tree spatial indexing and examples can be founf [here](https://geoffboeing.com/2016/10/r-tree-spatial-index-python/). From a test subset of 2000 polygons and 50 focal points, we see a five fold incease in computation time between brute force and the spatial index method. More examples of R-tree spatial indexing can be found [here](https://stackoverflow.com/questions/55722066/python-shapely-aggregating-points-to-shape-files-for-a-choropleth-map), and [here](https://stackoverflow.com/questions/37934023/how-to-use-geopandas-spatial-index-with-lines)."
   ]
  },
  {
   "cell_type": "code",
   "execution_count": 1,
   "metadata": {},
   "outputs": [],
   "source": [
    "%matplotlib notebook\n",
    "import shapely\n",
    "import pandas as pd\n",
    "import geopandas as gpd\n",
    "import matplotlib.pyplot as plt"
   ]
  },
  {
   "cell_type": "markdown",
   "metadata": {},
   "source": [
    "Read in the Geologic Map of the US, clipped to our AOI. "
   ]
  },
  {
   "cell_type": "code",
   "execution_count": 2,
   "metadata": {},
   "outputs": [
    {
     "name": "stdout",
     "output_type": "stream",
     "text": [
      "CPU times: user 17.4 s, sys: 770 ms, total: 18.2 s\n",
      "Wall time: 18.2 s\n"
     ]
    }
   ],
   "source": [
    "%time AOI_shp = gpd.read_file('../data/shp/AOI_Geology.shp')"
   ]
  },
  {
   "cell_type": "markdown",
   "metadata": {},
   "source": [
    "Read in the earth quake csv and convert lat, lon points to \"shapepoints\" via `geopandas`"
   ]
  },
  {
   "cell_type": "code",
   "execution_count": 70,
   "metadata": {},
   "outputs": [],
   "source": [
    "ok_quakes = pd.read_csv('../data/okQuakes.csv')\n",
    "\n",
    "ok_quakes['geometry'] = list(zip(ok_quakes.longitude, ok_quakes.latitude))\n",
    "ok_quakes['geometry'] = ok_quakes['geometry'].apply(shapely.geometry.Point)\n",
    "\n",
    "quakes_shp = gpd.GeoDataFrame(ok_quakes, geometry='geometry', crs = {'init': 'epsg:4326'})"
   ]
  },
  {
   "cell_type": "markdown",
   "metadata": {},
   "source": [
    "Read in the injection well csv and convert lat, lon points to \"shapepoints\" via `geopandas`, and create a subset of the Geologic Map which just includes Oklahoma since all of the injection well site as within the state "
   ]
  },
  {
   "cell_type": "code",
   "execution_count": 71,
   "metadata": {},
   "outputs": [],
   "source": [
    "inject_wells = pd.read_csv('../data/InjectionWells.csv')\n",
    "\n",
    "inject_wells['geometry'] = list(zip(inject_wells.LONG, inject_wells.LAT))\n",
    "inject_wells['geometry'] = inject_wells['geometry'].apply(shapely.geometry.Point)\n",
    "\n",
    "inject_wells_shp = gpd.GeoDataFrame(inject_wells, geometry='geometry', crs = {'init': 'epsg:4326'})\n",
    "\n",
    "OK_geol_shp = AOI_shp.loc[AOI_shp.STATE == 'OK']"
   ]
  },
  {
   "cell_type": "markdown",
   "metadata": {},
   "source": [
    "Spatial Indexing function "
   ]
  },
  {
   "cell_type": "code",
   "execution_count": 47,
   "metadata": {},
   "outputs": [],
   "source": [
    "def spatial_index(quakes_df, geology_df):\n",
    "    spatial_index = quakes_df.sindex\n",
    "    for i, unit in geology_df.iterrows():\n",
    "        polygon = unit.geometry\n",
    "        possible_matches_index = list(spatial_index.intersection(polygon.bounds))\n",
    "        possible_matches = quakes_df.iloc[possible_matches_index]\n",
    "        precise_matches = possible_matches[possible_matches.within(polygon)]\n",
    "        if precise_matches.empty != True:\n",
    "            quakes_df.at[precise_matches.index, 'STATE'] =  unit.STATE\n",
    "            quakes_df.at[precise_matches.index, 'UNIT_NAME'] =  unit.UNIT_NAME\n",
    "            quakes_df.at[precise_matches.index, 'AGE_MIN'] =  unit.AGE_MIN\n",
    "            quakes_df.at[precise_matches.index, 'AGE_MAX'] =  unit.AGE_MIN\n",
    "            quakes_df.at[precise_matches.index, 'MAJOR1'] =  unit.MAJOR1\n",
    "            quakes_df.at[precise_matches.index, 'MAJOR2'] =  unit.MAJOR2\n",
    "            quakes_df.at[precise_matches.index, 'MAJOR3'] =  unit.MAJOR3\n",
    "            quakes_df.at[precise_matches.index, 'GENERALIZE'] =  unit.GENERALIZE     \n",
    "    return quakes_df"
   ]
  },
  {
   "cell_type": "code",
   "execution_count": 50,
   "metadata": {},
   "outputs": [
    {
     "name": "stdout",
     "output_type": "stream",
     "text": [
      "CPU times: user 8min 14s, sys: 3 s, total: 8min 17s\n",
      "Wall time: 8min 19s\n"
     ]
    }
   ],
   "source": [
    "%%time \n",
    "quakes_w_geol_shp = spatial_index(quakes_shp, AOI_shp)"
   ]
  },
  {
   "cell_type": "code",
   "execution_count": 60,
   "metadata": {},
   "outputs": [],
   "source": [
    "okQuakes_w_geology = quakes_w_geol_shp.loc[:,quakes_w_geol_shp.columns != 'geometry']\n",
    "okQuakes_w_geology.to_csv('../data/okQuakes_w_geology.csv')"
   ]
  },
  {
   "cell_type": "code",
   "execution_count": 72,
   "metadata": {},
   "outputs": [
    {
     "name": "stdout",
     "output_type": "stream",
     "text": [
      "CPU times: user 2min 32s, sys: 1.18 s, total: 2min 33s\n",
      "Wall time: 2min 35s\n"
     ]
    }
   ],
   "source": [
    "%%time \n",
    "inject_wells_w_geol_shp = spatial_index(inject_wells_shp, OK_geol_shp)"
   ]
  },
  {
   "cell_type": "code",
   "execution_count": 73,
   "metadata": {},
   "outputs": [],
   "source": [
    "InjectionWells_w_geology = quakes_w_geol_shp.loc[:,quakes_w_geol_shp.columns != 'geometry']\n",
    "InjectionWells_w_geology.to_csv('../data/InjectionWells_w_geology.csv')"
   ]
  },
  {
   "cell_type": "code",
   "execution_count": null,
   "metadata": {},
   "outputs": [],
   "source": []
  }
 ],
 "metadata": {
  "kernelspec": {
   "display_name": "Python [conda env:geoenv] *",
   "language": "python",
   "name": "conda-env-geoenv-py"
  },
  "language_info": {
   "codemirror_mode": {
    "name": "ipython",
    "version": 2
   },
   "file_extension": ".py",
   "mimetype": "text/x-python",
   "name": "python",
   "nbconvert_exporter": "python",
   "pygments_lexer": "ipython2",
   "version": "2.7.15"
  }
 },
 "nbformat": 4,
 "nbformat_minor": 2
}

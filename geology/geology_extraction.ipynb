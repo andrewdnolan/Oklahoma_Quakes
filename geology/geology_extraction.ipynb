{
 "cells": [
  {
   "cell_type": "markdown",
   "metadata": {},
   "source": [
    "# Geology Extraction from the Shapefiles\n",
    "\n",
    "I have extracted a subset of shapefiles for the geologic infromation in my area of interest (AOI), from a larger geologic map of the United States. I am testing for the interection of a `latitude` and `longitude` point in one of the shapefiles for the different lithological units in the AOI. If the points interest, I am then extracting the geologic information from the lithologic unit and adding it the existing `.csv` files. This lithological information will then be used as predictors for the location and magntiude of anthropogenically induced earthquakes.  "
   ]
  },
  {
   "cell_type": "code",
   "execution_count": 1,
   "metadata": {},
   "outputs": [],
   "source": [
    "%matplotlib inline\n",
    "import shapely\n",
    "import pandas as pd\n",
    "import geopandas as gpd\n",
    "import matplotlib.pyplot as plt"
   ]
  },
  {
   "cell_type": "code",
   "execution_count": 2,
   "metadata": {},
   "outputs": [],
   "source": [
    "%time\n",
    "\n",
    "AOI_shp = gpd.read_file('../data/shp/AOI_Geology.shp')"
   ]
  },
  {
   "cell_type": "code",
   "execution_count": 3,
   "metadata": {},
   "outputs": [],
   "source": [
    "ok_quakes = pd.read_csv('../data/okQuakes.csv')\n",
    "\n",
    "ok_quakes['geometry'] = list(zip(ok_quakes.longitude, ok_quakes.latitude))\n",
    "ok_quakes['geometry'] = ok_quakes['geometry'].apply(shapely.geometry.Point)\n",
    "\n",
    "quakes_shp = gpd.GeoDataFrame(ok_quakes, geometry='geometry', crs = {'init': 'epsg:4326'})"
   ]
  },
  {
   "cell_type": "markdown",
   "metadata": {},
   "source": [
    "http://geologyandpython.com/geology-of-MI-and-WI.html"
   ]
  },
  {
   "cell_type": "code",
   "execution_count": null,
   "metadata": {
    "scrolled": true
   },
   "outputs": [
    {
     "name": "stdout",
     "output_type": "stream",
     "text": [
      "CPU times: user 3 µs, sys: 1 µs, total: 4 µs\n",
      "Wall time: 5.96 µs\n"
     ]
    }
   ],
   "source": [
    "%time \n",
    "\n",
    "for i, row in ok_quakes.iterrows():\n",
    "    for j, unit in AOI_shp.iterrows():\n",
    "        if row.geometry.intersects(unit.geometry):\n",
    "            ok_quakes.at[i, 'STATE'] =  unit.STATE\n",
    "            ok_quakes.at[i, 'UNIT_NAME'] =  unit.UNIT_NAME\n",
    "            ok_quakes.at[i, 'AGE_MIN'] =  unit.AGE_MIN\n",
    "            ok_quakes.at[i, 'MAJOR1'] =  unit.MAJOR1\n",
    "            ok_quakes.at[i, 'MAJOR2'] =  unit.MAJOR2\n",
    "            ok_quakes.at[i, 'MAJOR3'] =  unit.MAJOR3\n",
    "            ok_quakes.at[i, 'GENERALIZE'] =  unit.GENERALIZE    "
   ]
  }
 ],
 "metadata": {
  "kernelspec": {
   "display_name": "Python [conda env:geoenv] *",
   "language": "python",
   "name": "conda-env-geoenv-py"
  },
  "language_info": {
   "codemirror_mode": {
    "name": "ipython",
    "version": 2
   },
   "file_extension": ".py",
   "mimetype": "text/x-python",
   "name": "python",
   "nbconvert_exporter": "python",
   "pygments_lexer": "ipython2",
   "version": "2.7.15"
  }
 },
 "nbformat": 4,
 "nbformat_minor": 2
}
